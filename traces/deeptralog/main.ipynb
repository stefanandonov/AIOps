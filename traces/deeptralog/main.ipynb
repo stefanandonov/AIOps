{
 "cells": [
  {
   "cell_type": "code",
   "execution_count": 8,
   "metadata": {},
   "outputs": [],
   "source": [
    "import os\n",
    "import pandas as pd\n",
    "import numpy as np\n",
    "import networkx as nx\n",
    "import matplotlib.pyplot as plt\n",
    "import scipy"
   ]
  },
  {
   "cell_type": "code",
   "execution_count": 2,
   "metadata": {},
   "outputs": [],
   "source": [
    "df=pd.read_csv('rnmp_data\\\\DeepTraLog\\\\TraceLogData\\\\all data\\F01-01\\\\SUCCESSF0101_SpanData2021-08-14_10-22-48.csv')"
   ]
  },
  {
   "cell_type": "code",
   "execution_count": 6,
   "metadata": {},
   "outputs": [],
   "source": [
    "class TraceNode:\n",
    "    def __init__(self, start_time, end_time, url, span_type, service, span_id, trace_id, peer, parent_span, component, is_error):\n",
    "        self.start_time = start_time\n",
    "        self.end_time = end_time\n",
    "        self.url = url\n",
    "        self.span_type = span_type\n",
    "        self.service = service\n",
    "        self.span_id = span_id\n",
    "        self.trace_id = trace_id\n",
    "        self.peer = peer\n",
    "        self.parent_span = parent_span\n",
    "        self.component = component\n",
    "        self.is_error = is_error\n",
    "        \n",
    "    def get_duration(self):\n",
    "        duration = self.end_time - self.start_time\n",
    "        return duration"
   ]
  },
  {
   "cell_type": "code",
   "execution_count": 9,
   "metadata": {},
   "outputs": [],
   "source": [
    "color_map=[]"
   ]
  },
  {
   "cell_type": "code",
   "execution_count": 31,
   "metadata": {},
   "outputs": [],
   "source": [
    "def add_edges(parent, index):\n",
    "    # children=df.loc[df['ParentSpan']==parent['SpanId']]['SpanId']\n",
    "    children=df.loc[df['ParentSpan']==parent['SpanId']]\n",
    "    print((children[0].tolist()))\n",
    "    color_map.append('blue')\n",
    "    if len(children)==0:\n",
    "        return None\n",
    "    [G.add_edge(str(element.tolist()),str(parent.tolist())) for element in children]\n",
    "    [add_edges(el, index+1) for el in children]"
   ]
  },
  {
   "cell_type": "code",
   "execution_count": 73,
   "metadata": {},
   "outputs": [],
   "source": [
    "def add_edges(parent,index):\n",
    "    parent_id=parent['SpanId']\n",
    "    children=df.loc[df['ParentSpan']==parent_id]\n",
    "    color_map.append('blue')\n",
    "    if len(children)==0:\n",
    "        return None\n",
    "    [add_edges(el, index+1) for el in children]"
   ]
  },
  {
   "cell_type": "code",
   "execution_count": 74,
   "metadata": {},
   "outputs": [
    {
     "name": "stdout",
     "output_type": "stream",
     "text": [
      "<class 'pandas.core.frame.DataFrame'>\n"
     ]
    },
    {
     "ename": "TypeError",
     "evalue": "string indices must be integers",
     "output_type": "error",
     "traceback": [
      "\u001b[1;31m---------------------------------------------------------------------------\u001b[0m",
      "\u001b[1;31mTypeError\u001b[0m                                 Traceback (most recent call last)",
      "Cell \u001b[1;32mIn[74], line 9\u001b[0m\n\u001b[0;32m      7\u001b[0m     color_map\u001b[39m.\u001b[39mappend(\u001b[39m'\u001b[39m\u001b[39mred\u001b[39m\u001b[39m'\u001b[39m) \n\u001b[0;32m      8\u001b[0m     G\u001b[39m.\u001b[39madd_edge(\u001b[39mstr\u001b[39m(row\u001b[39m.\u001b[39mtolist()) , \u001b[39m1\u001b[39m)\n\u001b[1;32m----> 9\u001b[0m     add_edges(row, \u001b[39m1\u001b[39;49m)\n\u001b[0;32m     11\u001b[0m \u001b[39mif\u001b[39;00m i \u001b[39m==\u001b[39m \u001b[39m1\u001b[39m: \n\u001b[0;32m     12\u001b[0m   \u001b[39mbreak\u001b[39;00m\n",
      "Cell \u001b[1;32mIn[73], line 8\u001b[0m, in \u001b[0;36madd_edges\u001b[1;34m(parent, index)\u001b[0m\n\u001b[0;32m      6\u001b[0m \u001b[39mif\u001b[39;00m \u001b[39mlen\u001b[39m(children)\u001b[39m==\u001b[39m\u001b[39m0\u001b[39m:\n\u001b[0;32m      7\u001b[0m     \u001b[39mreturn\u001b[39;00m \u001b[39mNone\u001b[39;00m\n\u001b[1;32m----> 8\u001b[0m [add_edges(el, index\u001b[39m+\u001b[39m\u001b[39m1\u001b[39m) \u001b[39mfor\u001b[39;00m el \u001b[39min\u001b[39;00m children]\n",
      "Cell \u001b[1;32mIn[73], line 8\u001b[0m, in \u001b[0;36m<listcomp>\u001b[1;34m(.0)\u001b[0m\n\u001b[0;32m      6\u001b[0m \u001b[39mif\u001b[39;00m \u001b[39mlen\u001b[39m(children)\u001b[39m==\u001b[39m\u001b[39m0\u001b[39m:\n\u001b[0;32m      7\u001b[0m     \u001b[39mreturn\u001b[39;00m \u001b[39mNone\u001b[39;00m\n\u001b[1;32m----> 8\u001b[0m [add_edges(el, index\u001b[39m+\u001b[39;49m\u001b[39m1\u001b[39;49m) \u001b[39mfor\u001b[39;00m el \u001b[39min\u001b[39;00m children]\n",
      "Cell \u001b[1;32mIn[73], line 2\u001b[0m, in \u001b[0;36madd_edges\u001b[1;34m(parent, index)\u001b[0m\n\u001b[0;32m      1\u001b[0m \u001b[39mdef\u001b[39;00m \u001b[39madd_edges\u001b[39m(parent,index):\n\u001b[1;32m----> 2\u001b[0m     parent_id\u001b[39m=\u001b[39mparent[\u001b[39m'\u001b[39;49m\u001b[39mSpanId\u001b[39;49m\u001b[39m'\u001b[39;49m]\n\u001b[0;32m      3\u001b[0m     children\u001b[39m=\u001b[39mdf\u001b[39m.\u001b[39mloc[df[\u001b[39m'\u001b[39m\u001b[39mParentSpan\u001b[39m\u001b[39m'\u001b[39m]\u001b[39m==\u001b[39mparent_id]\n\u001b[0;32m      4\u001b[0m     \u001b[39mprint\u001b[39m(\u001b[39mtype\u001b[39m(children))\n",
      "\u001b[1;31mTypeError\u001b[0m: string indices must be integers"
     ]
    }
   ],
   "source": [
    "G=nx.MultiGraph()\n",
    "color_map=[]\n",
    "i=0\n",
    "for index, row in df.iterrows():\n",
    "    if row['ParentSpan']=='-1':\n",
    "        i+=1\n",
    "        color_map.append('red') \n",
    "        G.add_edge(str(row.tolist()) , 1)\n",
    "        add_edges(row, 1)\n",
    "\n",
    "    if i == 1: \n",
    "      break\n",
    "        "
   ]
  },
  {
   "cell_type": "code",
   "execution_count": 51,
   "metadata": {},
   "outputs": [
    {
     "data": {
      "text/plain": [
       "NodeView((\"[1628884697510, 1628884701848, '{GET}/api/v1/cancelservice/cancel/{orderId}/{loginId}', 'Entry', 'ts-cancel-service', 'a8ac2bc13e5c423d83743ee2d661482b.42.16288846975100028.0', 'a8ac2bc13e5c423d83743ee2d661482b.42.16288846975100029', 'ts-cancel-service', '-1', 'SpringMVC', False]\", 1))"
      ]
     },
     "execution_count": 51,
     "metadata": {},
     "output_type": "execute_result"
    }
   ],
   "source": [
    "G.nodes()"
   ]
  },
  {
   "cell_type": "code",
   "execution_count": 39,
   "metadata": {},
   "outputs": [
    {
     "data": {
      "image/png": "[encoded data removed]",
      "text/plain": [
       "<Figure size 640x480 with 1 Axes>"
      ]
     },
     "metadata": {},
     "output_type": "display_data"
    }
   ],
   "source": [
    "nx.draw(G,node_color=color_map)"
   ]
  },
  {
   "cell_type": "code",
   "execution_count": null,
   "metadata": {},
   "outputs": [],
   "source": []
  }
 ],
 "metadata": {
  "kernelspec": {
   "display_name": "Python 3",
   "language": "python",
   "name": "python3"
  },
  "language_info": {
   "codemirror_mode": {
    "name": "ipython",
    "version": 3
   },
   "file_extension": ".py",
   "mimetype": "text/x-python",
   "name": "python",
   "nbconvert_exporter": "python",
   "pygments_lexer": "ipython3",
   "version": "3.10.7"
  },
  "orig_nbformat": 4
 },
 "nbformat": 4,
 "nbformat_minor": 2
}
